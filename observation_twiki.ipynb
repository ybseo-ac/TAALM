{
 "cells": [
  {
   "cell_type": "code",
   "execution_count": 1,
   "metadata": {},
   "outputs": [
    {
     "name": "stdout",
     "output_type": "stream",
     "text": [
      "Finetune, 0910, 10.05745792388916, 9.999476432800293\n",
      "Finetune, 1011, 9.531009674072266, 9.55434799194336\n",
      "Finetune, 1112, 9.63222599029541, 9.736542701721191\n",
      "Mix-review, 0910, 9.579523086547852, 9.529372215270996\n",
      "Mix-review, 1011, 9.486846923828125, 9.514286994934082\n",
      "Mix-review, 1112, 9.452012062072754, 9.562586784362793\n",
      "RecAdam, 0910, 9.604938507080078, 9.51479721069336\n",
      "RecAdam, 1011, 9.031538009643555, 8.99250316619873\n",
      "RecAdam, 1112, 9.479599952697754, 9.57969856262207\n",
      "K-Adapter, 0910, 4.268465995788574, 4.019472599029541\n",
      "K-Adapter, 1011, 4.15425968170166, 4.0300116539001465\n",
      "K-Adapter, 1112, 4.357025623321533, 4.036587715148926\n"
     ]
    },
    {
     "data": {
      "text/plain": [
       "<Figure size 500x500 with 0 Axes>"
      ]
     },
     "metadata": {},
     "output_type": "display_data"
    }
   ],
   "source": [
    "########## observation of results ############\n",
    "import pickle\n",
    "from matplotlib import pyplot as plt\n",
    "from matplotlib.lines import Line2D\n",
    "\n",
    "plt.figure(figsize=[5,5])\n",
    "\n",
    "\n",
    "legend_handles = []\n",
    "names = ['finetune_qlora', 'finetune_qlora_review', 'finetune_qlora_recadam', 'targeted_qlora']\n",
    "real_names = ['Finetune', 'Mix-review','RecAdam','TAALM']\n",
    "periods = ['0910','1011','1112']\n",
    "for ii, name0 in enumerate(names):\n",
    "    for i in range(3):\n",
    "        with open(f\"results/twiki/{name0}_{i}.pkl\", 'rb') as f:\n",
    "            temp= pickle.load(f)\n",
    "        \n",
    "        print(f\"{real_names[ii]}, {periods[i]}, {temp['eval_result'][0]['ppl_changed']}, {temp['eval_result'][0]['ppl_unchanged']}\")\n"
   ]
  }
 ],
 "metadata": {
  "kernelspec": {
   "display_name": "yb_qlora",
   "language": "python",
   "name": "python3"
  },
  "language_info": {
   "codemirror_mode": {
    "name": "ipython",
    "version": 3
   },
   "file_extension": ".py",
   "mimetype": "text/x-python",
   "name": "python",
   "nbconvert_exporter": "python",
   "pygments_lexer": "ipython3",
   "version": "3.8.18"
  }
 },
 "nbformat": 4,
 "nbformat_minor": 2
}
